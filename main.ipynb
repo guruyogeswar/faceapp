{
 "cells": [
  {
   "cell_type": "code",
   "execution_count": null,
   "id": "a1abacff",
   "metadata": {
    "vscode": {
     "languageId": "plaintext"
    }
   },
   "outputs": [],
   "source": [
    "from r2_storage import list_objects, delete_from_r2\n",
    "import time\n",
    "\n",
    "def delete_all_r2_objects():\n",
    "    \"\"\"\n",
    "    Lists all objects in the R2 bucket and deletes them.\n",
    "    Includes a confirmation step to prevent accidental deletion.\n",
    "    \"\"\"\n",
    "    print(\"--- R2 BUCKET DELETION SCRIPT ---\")\n",
    "    \n",
    "    # Get all object keys. Note: list_objects may be limited to 1000 results.\n",
    "    all_object_keys = list_objects()\n",
    "    \n",
    "    if not all_object_keys:\n",
    "        print(\"No objects found in the bucket. It is already empty.\")\n",
    "        return\n",
    "\n",
    "    print(f\"Found {len(all_object_keys)} objects to be deleted.\")\n",
    "    \n",
    "    # CRITICAL: Confirmation prompt\n",
    "    confirm = input(\"Are you absolutely sure you want to permanently delete all these objects? (yes/no): \")\n",
    "    \n",
    "    if confirm.lower() != 'yes':\n",
    "        print(\"Deletion cancelled.\")\n",
    "        return\n",
    "        \n",
    "    print(\"Proceeding with deletion...\")\n",
    "    \n",
    "    deleted_count = 0\n",
    "    failed_count = 0\n",
    "    \n",
    "    for key in all_object_keys:\n",
    "        print(f\"Attempting to delete: {key}\")\n",
    "        success, error_message = delete_from_r2(key)\n",
    "        if success:\n",
    "            deleted_count += 1\n",
    "            print(f\"  -> Successfully deleted {key}\")\n",
    "        else:\n",
    "            failed_count += 1\n",
    "            print(f\"  -> FAILED to delete {key}. Reason: {error_message}\")\n",
    "        # A small delay to avoid overwhelming the API, can be adjusted\n",
    "        time.sleep(0.05)\n",
    "        \n",
    "    print(\"\\n--- Deletion Complete ---\")\n",
    "    print(f\"Successfully deleted: {deleted_count} objects.\")\n",
    "    print(f\"Failed to delete: {failed_count} objects.\")\n",
    "    if failed_count > 0:\n",
    "        print(\"Review the error messages above for details on failures.\")\n",
    "    if len(all_object_keys) == 1000:\n",
    "        print(\"\\nWARNING: You may need to run this script again, as the bucket contained 1000 or more objects.\")\n",
    "\n",
    "# To run the script, you would execute this function.\n",
    "# delete_all_r2_objects()"
   ]
  }
 ],
 "metadata": {
  "language_info": {
   "name": "python"
  }
 },
 "nbformat": 4,
 "nbformat_minor": 5
}
